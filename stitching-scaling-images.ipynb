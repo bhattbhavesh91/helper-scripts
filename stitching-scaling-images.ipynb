{
  "nbformat": 4,
  "nbformat_minor": 0,
  "metadata": {
    "colab": {
      "provenance": []
    },
    "kernelspec": {
      "name": "python3",
      "display_name": "Python 3"
    },
    "language_info": {
      "name": "python"
    }
  },
  "cells": [
    {
      "cell_type": "code",
      "execution_count": null,
      "metadata": {
        "id": "GKmtZyE2o13M"
      },
      "outputs": [],
      "source": [
        "from PIL import Image"
      ]
    },
    {
      "cell_type": "code",
      "source": [
        "def stitch_images_horizontally(image_paths, output_path):\n",
        "    # Open all the images\n",
        "    images = [Image.open(img_path) for img_path in image_paths]\n",
        "\n",
        "    # Calculate the total width and the maximum height\n",
        "    total_width = sum(image.width for image in images)\n",
        "    max_height = max(image.height for image in images)\n",
        "\n",
        "    # Create a new image with the total width and max height (RGBA mode for transparency)\n",
        "    new_image = Image.new('RGBA', (total_width, max_height))\n",
        "\n",
        "    # Paste each image side by side\n",
        "    current_x = 0\n",
        "    for image in images:\n",
        "        new_image.paste(image, (current_x, 0))\n",
        "        current_x += image.width\n",
        "\n",
        "    # Save the stitched image\n",
        "    new_image.save(output_path)\n",
        "\n",
        "# List of image file paths\n",
        "image_paths = ['1.png', '2.png', '3.png']  # Replace with your image paths\n",
        "\n",
        "# Output path\n",
        "output_path = 'stitched_image.png'\n",
        "\n"
      ],
      "metadata": {
        "id": "EoSJNbIGpFne"
      },
      "execution_count": null,
      "outputs": []
    },
    {
      "cell_type": "code",
      "source": [
        "from PIL import Image\n",
        "\n",
        "def stitch_images_horizontally(image_paths, output_path):\n",
        "    # Open all the images\n",
        "    images = [Image.open(img_path) for img_path in image_paths]\n",
        "\n",
        "    # Calculate the total width and the maximum height\n",
        "    total_width = sum(image.width for image in images)\n",
        "    max_height = max(image.height for image in images)\n",
        "\n",
        "    # Create a new image with the total width and max height (RGBA mode for transparency)\n",
        "    new_image = Image.new('RGBA', (total_width, max_height))\n",
        "\n",
        "    # Paste each image side by side with their bottoms aligned\n",
        "    current_x = 0\n",
        "    for image in images:\n",
        "        # Calculate the position to paste the image so that its bottom is aligned\n",
        "        y_offset = max_height - image.height\n",
        "        new_image.paste(image, (current_x, y_offset))\n",
        "        current_x += image.width\n",
        "\n",
        "    # Save the stitched image\n",
        "    new_image.save(output_path)\n",
        "\n",
        "# List of image file paths\n",
        "image_paths = ['1.png', '2.png', '3.png']  # Replace with your image paths\n",
        "\n",
        "# Output path\n",
        "output_path = 'stitched_image.png'\n",
        "\n",
        "# Stitch images together\n",
        "stitch_images_horizontally(image_paths, output_path)\n"
      ],
      "metadata": {
        "id": "7gfNDy0QpvYq"
      },
      "execution_count": null,
      "outputs": []
    },
    {
      "cell_type": "code",
      "source": [
        "# Stitch images together\n",
        "stitch_images_horizontally(image_paths, output_path)"
      ],
      "metadata": {
        "id": "BmvdLV15pI9B"
      },
      "execution_count": null,
      "outputs": []
    },
    {
      "cell_type": "code",
      "source": [],
      "metadata": {
        "id": "GksqIjCLpJAi"
      },
      "execution_count": null,
      "outputs": []
    },
    {
      "cell_type": "code",
      "source": [],
      "metadata": {
        "id": "eB1ziN-uqrhM"
      },
      "execution_count": null,
      "outputs": []
    },
    {
      "cell_type": "code",
      "source": [
        "from PIL import Image\n",
        "\n",
        "def stitch_images_horizontally(image_paths, output_path, scaling_factors=None):\n",
        "    \"\"\"\n",
        "    Stitch images together horizontally with bottom alignment and optional scaling.\n",
        "\n",
        "    :param image_paths: List of paths to the images to be stitched.\n",
        "    :param output_path: Path where the stitched image will be saved.\n",
        "    :param scaling_factors: List of scaling factors for each image (optional). 1.0 means no scaling.\n",
        "    \"\"\"\n",
        "    if scaling_factors is None:\n",
        "        scaling_factors = [1.0] * len(image_paths)  # Default to no scaling if not provided\n",
        "\n",
        "    # Open and optionally scale images\n",
        "    images = []\n",
        "    for idx, img_path in enumerate(image_paths):\n",
        "        img = Image.open(img_path)\n",
        "        # Apply scaling\n",
        "        scale_factor = scaling_factors[idx]\n",
        "        new_size = (int(img.width * scale_factor), int(img.height * scale_factor))\n",
        "        img_resized = img.resize(new_size, Image.ANTIALIAS)\n",
        "        images.append(img_resized)\n",
        "\n",
        "    # Calculate the total width and the maximum height\n",
        "    total_width = sum(image.width for image in images)\n",
        "    max_height = max(image.height for image in images)\n",
        "\n",
        "    # Create a new image with the total width and max height (RGBA mode for transparency)\n",
        "    new_image = Image.new('RGBA', (total_width, max_height))\n",
        "\n",
        "    # Paste each image side by side with their bottoms aligned\n",
        "    current_x = 0\n",
        "    for image in images:\n",
        "        # Calculate the position to paste the image so that its bottom is aligned\n",
        "        y_offset = max_height - image.height\n",
        "        new_image.paste(image, (current_x, y_offset))\n",
        "        current_x += image.width\n",
        "\n",
        "    # Save the stitched image\n",
        "    new_image.save(output_path)\n",
        "\n",
        "# List of image file paths\n",
        "# image_paths = ['image1.png', 'image2.png', 'image3.png']  # Replace with your image paths\n",
        "\n",
        "# Scaling factors for each image\n"
      ],
      "metadata": {
        "id": "UK09kaLOqrkY"
      },
      "execution_count": null,
      "outputs": []
    },
    {
      "cell_type": "code",
      "source": [],
      "metadata": {
        "id": "CSvrL-BWq1Q1"
      },
      "execution_count": null,
      "outputs": []
    },
    {
      "cell_type": "code",
      "source": [],
      "metadata": {
        "id": "Ty_O-XFfq1Zn"
      },
      "execution_count": null,
      "outputs": []
    },
    {
      "cell_type": "code",
      "source": [
        "image_paths = ['1.png', '2.png', '3.png']\n",
        "input_scaling_factor = [0.5, 1, 0.5]"
      ],
      "metadata": {
        "id": "Nk6ud3STq4Ss"
      },
      "execution_count": null,
      "outputs": []
    },
    {
      "cell_type": "code",
      "source": [
        "# Stitch images together\n",
        "stitch_images_horizontally(image_paths, output_path, input_scaling_factor)"
      ],
      "metadata": {
        "colab": {
          "base_uri": "https://localhost:8080/"
        },
        "id": "cJc77Iriq_xC",
        "outputId": "12e84266-33f7-4c3b-a734-b54a1973264d"
      },
      "execution_count": null,
      "outputs": [
        {
          "output_type": "stream",
          "name": "stderr",
          "text": [
            "<ipython-input-11-4ec6ae0b59b4>:21: DeprecationWarning: ANTIALIAS is deprecated and will be removed in Pillow 10 (2023-07-01). Use LANCZOS or Resampling.LANCZOS instead.\n",
            "  img_resized = img.resize(new_size, Image.ANTIALIAS)\n"
          ]
        }
      ]
    },
    {
      "cell_type": "code",
      "source": [],
      "metadata": {
        "id": "HfBgcDp5rD0R"
      },
      "execution_count": null,
      "outputs": []
    }
  ]
}